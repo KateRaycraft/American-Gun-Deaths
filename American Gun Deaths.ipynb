{
 "cells": [
  {
   "cell_type": "markdown",
   "metadata": {},
   "source": [
    "# American Gun Deaths"
   ]
  },
  {
   "cell_type": "code",
   "execution_count": 1,
   "metadata": {},
   "outputs": [],
   "source": [
    "import csv\n",
    "import datetime\n",
    "f = open(\"full_data.csv\", \"r\")\n",
    "reader = csv.reader(f)\n",
    "data = list(reader)\n",
    "headers = data[0]\n",
    "data = data[1:]"
   ]
  },
  {
   "cell_type": "markdown",
   "metadata": {},
   "source": [
    "First I wanted to get a general sense of the data as a whole.  In the code below, I am determining the number of gun deaths for each year between 2012 and 2014:"
   ]
  },
  {
   "cell_type": "code",
   "execution_count": 2,
   "metadata": {},
   "outputs": [
    {
     "data": {
      "text/plain": [
       "{'2012': 33563, '2013': 33636, '2014': 33599}"
      ]
     },
     "execution_count": 2,
     "metadata": {},
     "output_type": "execute_result"
    }
   ],
   "source": [
    "years = []\n",
    "for row in data:\n",
    "    years.append(row[1])\n",
    "    \n",
    "year_counts = {}\n",
    "for year in years:\n",
    "    if year not in year_counts:\n",
    "        year_counts[year] = 1\n",
    "    else:\n",
    "        year_counts[year] += 1\n",
    "\n",
    "year_counts"
   ]
  },
  {
   "cell_type": "markdown",
   "metadata": {},
   "source": [
    "There appears to be no substantial difference within this year range in terms of gun deaths nationally per year.  The range of values is less than 100 deaths per year, or 0.3%.  This lets us know that we have a uniform distribution of gun deaths over time, at least at this level of granularity.\n",
    "\n",
    "The next item I chose to investigate was biological sex:"
   ]
  },
  {
   "cell_type": "code",
   "execution_count": 3,
   "metadata": {},
   "outputs": [
    {
     "data": {
      "text/plain": [
       "{'F': 14449, 'M': 86349}"
      ]
     },
     "execution_count": 3,
     "metadata": {},
     "output_type": "execute_result"
    }
   ],
   "source": [
    "sex_counts = {}\n",
    "for row in data:\n",
    "    sex = row[5]\n",
    "    if sex not in sex_counts:\n",
    "        sex_counts[sex] = 1\n",
    "    else:\n",
    "        sex_counts[sex] += 1\n",
    "sex_counts"
   ]
  },
  {
   "cell_type": "markdown",
   "metadata": {},
   "source": [
    "Apparently there are only 17% as many women and girls killed by guns as there are men and boys during this timeframe.\n",
    "\n"
   ]
  },
  {
   "cell_type": "code",
   "execution_count": 4,
   "metadata": {},
   "outputs": [
    {
     "data": {
      "text/plain": [
       "{'Asian/Pacific Islander': 1326,\n",
       " 'Black': 23296,\n",
       " 'Hispanic': 9022,\n",
       " 'Native American/Native Alaskan': 917,\n",
       " 'White': 66237}"
      ]
     },
     "execution_count": 4,
     "metadata": {},
     "output_type": "execute_result"
    }
   ],
   "source": [
    "race_counts = {}\n",
    "for row in data:\n",
    "    race = row[7]\n",
    "    if race not in race_counts:\n",
    "        race_counts[race] = 1\n",
    "    else:\n",
    "        race_counts[race] += 1\n",
    "race_counts"
   ]
  },
  {
   "cell_type": "markdown",
   "metadata": {},
   "source": [
    "The largest racial group in the gun deaths dataset is White (66,237), followed by Black (23,296).  Hispanic is a distant third, at 9,022 deaths.  This may in part be a result of the overall ethnic makeup of the United States.  Next I chose to get a better handle on rates of death by race per 100,000, which is more significant than total mortality.\n",
    "\n",
    "To do this, I added total US census data from the 2010 census."
   ]
  },
  {
   "cell_type": "code",
   "execution_count": 5,
   "metadata": {},
   "outputs": [],
   "source": [
    "f = open(\"census.csv\", \"r\")\n",
    "reader2 = csv.reader(f)\n",
    "census = list(reader2)"
   ]
  },
  {
   "cell_type": "code",
   "execution_count": 6,
   "metadata": {},
   "outputs": [
    {
     "data": {
      "text/plain": [
       "{'Asian/Pacific Islander': '15159516674625',\n",
       " 'Black': '40250635',\n",
       " 'Hispanic': '44618105',\n",
       " 'Native American/Native Alaskan': '3739506',\n",
       " 'White': '197318956'}"
      ]
     },
     "execution_count": 6,
     "metadata": {},
     "output_type": "execute_result"
    }
   ],
   "source": [
    "total_pop_by_race = {\n",
    "    \"Asian/Pacific Islander\": census[1][14] + census[1][15],\n",
    "    \"Black\": census[1][12],\n",
    "    \"Native American/Native Alaskan\": census[1][13],\n",
    "    \"Hispanic\": census[1][11],\n",
    "    \"White\": census[1][10]\n",
    "}\n",
    "total_pop_by_race    "
   ]
  },
  {
   "cell_type": "code",
   "execution_count": 34,
   "metadata": {},
   "outputs": [
    {
     "name": "stdout",
     "output_type": "stream",
     "text": [
      "Gun Deaths by Race Per 100,000:\n"
     ]
    },
    {
     "data": {
      "text/plain": [
       "[('Black', 57.877347773519595),\n",
       " ('White', 33.56849303419181),\n",
       " ('Native American/Native Alaskan', 24.521955573811088),\n",
       " ('Hispanic', 20.220491210910907),\n",
       " ('Asian/Pacific Islander', 8.746980714890115e-06)]"
      ]
     },
     "execution_count": 34,
     "metadata": {},
     "output_type": "execute_result"
    }
   ],
   "source": [
    "deaths_by_race_per_hundredk = {}\n",
    "for race, count in (race_counts.items()):    \n",
    "    deaths_by_race_per_hundredk[race] = float(count)*100000/float(total_pop_by_race[race])\n",
    "\n",
    "print(\"Gun Deaths by Race Per 100,000:\")\n",
    "sorted(deaths_by_race_per_hundredk.items(), key=lambda x: x[1], reverse=True)\n",
    "                            "
   ]
  },
  {
   "cell_type": "markdown",
   "metadata": {},
   "source": [
    "At this point I became curious as to how many of these deaths were ruled Suicide, Homicide, and Accidental:"
   ]
  },
  {
   "cell_type": "code",
   "execution_count": 35,
   "metadata": {},
   "outputs": [],
   "source": [
    "intents = []\n",
    "for row in data:\n",
    "    intents.append(row[3])"
   ]
  },
  {
   "cell_type": "code",
   "execution_count": 36,
   "metadata": {},
   "outputs": [],
   "source": [
    "races = []\n",
    "for row in data:\n",
    "    races.append(row[7])"
   ]
  },
  {
   "cell_type": "code",
   "execution_count": 37,
   "metadata": {},
   "outputs": [
    {
     "data": {
      "text/plain": [
       "[('Black', 19510),\n",
       " ('White', 9147),\n",
       " ('Hispanic', 5634),\n",
       " ('Asian/Pacific Islander', 559),\n",
       " ('Native American/Native Alaskan', 326)]"
      ]
     },
     "execution_count": 37,
     "metadata": {},
     "output_type": "execute_result"
    }
   ],
   "source": [
    "homicide_race_counts = {}\n",
    "for i, race in enumerate(races):\n",
    "    if intents[i] == 'Homicide':\n",
    "        if race not in homicide_race_counts:\n",
    "            homicide_race_counts[race] = 0\n",
    "        homicide_race_counts[race] += 1\n",
    "sorted(homicide_race_counts.items(), key=lambda x: x[1], reverse=True)"
   ]
  },
  {
   "cell_type": "markdown",
   "metadata": {},
   "source": [
    "## Some Juicy Findings Regarding Total Gun Deaths vs Homicides by Race"
   ]
  },
  {
   "cell_type": "code",
   "execution_count": 38,
   "metadata": {},
   "outputs": [
    {
     "name": "stdout",
     "output_type": "stream",
     "text": [
      "Homicides per 100,000 By Race:\n",
      "\n",
      "Black - 48.4712849872 homicides per 100,000\n",
      "\n",
      "Hispanic - 12.6271611042 homicides per 100,000\n",
      "\n",
      "Native American/Native Alaskan - 8.71772902624 homicides per 100,000\n",
      "\n",
      "White - 4.63564179815 homicides per 100,000\n",
      "\n",
      "Asian/Pacific Islander - 3.68745265432e-06 homicides per 100,000\n",
      "\n"
     ]
    }
   ],
   "source": [
    "homicide_race_counts_per_hundredk = {}\n",
    "for key, value in (homicide_race_counts.items()):    \n",
    "    homicide_race_counts_per_hundredk[key] = float(value)*100000/float(total_pop_by_race[key])\n",
    "sorted_homicides = sorted(homicide_race_counts_per_hundredk.items(), key=lambda x: x[1], reverse=True)\n",
    "\n",
    "print(\"Homicides per 100,000 By Race:\")\n",
    "print('')\n",
    "for race, count in sorted_homicides:\n",
    "    print(\"{} - {} homicides per 100,000\".format(race, count))\n",
    "    print('')"
   ]
  },
  {
   "cell_type": "markdown",
   "metadata": {},
   "source": [
    "I was super interested to find that an overwhelming majority of Black gun deaths were homicides during this period (83%), and that a large majority of Hispanic gun deaths were, as well (65%).  Conversely, only 15% of White gun deaths were homicides.  Native American/Native Alaskan and Asian/Pacific Islander gun deaths were 36% and 50%, respectively.\n",
    "\n",
    "This surprised me a lot, so I wanted to see how the data for suicides matched up:"
   ]
  },
  {
   "cell_type": "code",
   "execution_count": 30,
   "metadata": {},
   "outputs": [],
   "source": [
    "suicide_race_counts = {}\n",
    "for i, race in enumerate(races):\n",
    "    if intents[i] == 'Suicide':\n",
    "        if race not in suicide_race_counts:\n",
    "            suicide_race_counts[race] = 0\n",
    "        suicide_race_counts[race] += 1"
   ]
  },
  {
   "cell_type": "markdown",
   "metadata": {},
   "source": [
    "## White Americans as Likely to Commit Suicide by Gun as African Americans to Die by Gun in Homicide"
   ]
  },
  {
   "cell_type": "code",
   "execution_count": 32,
   "metadata": {},
   "outputs": [
    {
     "name": "stdout",
     "output_type": "stream",
     "text": [
      "Suicides per 100,000 By Race:\n",
      "\n",
      "White - 28.0621796925 Suicides per 100,000\n",
      "\n",
      "Native American/Native Alaskan - 14.8415325447 Suicides per 100,000\n",
      "\n",
      "Black - 8.27813027049 Suicides per 100,000\n",
      "\n",
      "Hispanic - 7.1069804511 Suicides per 100,000\n",
      "\n",
      "Asian/Pacific Islander - 4.9144047003e-06 Suicides per 100,000\n",
      "\n"
     ]
    }
   ],
   "source": [
    "suicide_race_counts_per_hundredk = {}\n",
    "for key, value in (suicide_race_counts.items()):    \n",
    "    suicide_race_counts_per_hundredk[key] = float(value)*100000/float(total_pop_by_race[key])\n",
    "sorted_suicides = sorted(suicide_race_counts_per_hundredk.items(), key=lambda x: x[1], reverse=True)\n",
    "\n",
    "print(\"Suicides per 100,000 By Race:\")\n",
    "print('')\n",
    "for race, count in sorted_suicides:\n",
    "    print(\"{} - {} Suicides per 100,000\".format(race, count))\n",
    "    print('')"
   ]
  },
  {
   "cell_type": "markdown",
   "metadata": {},
   "source": [
    "Interestingly, 84% of White gun deaths were suicides - the same proportion of Black gun deaths that were homicides.  60% of Native American/Native Alaskan gun deaths were also ruled suicide.  Only 14% of Black gun deaths were suicides.  Basically, the homicide:suicide ratio for Black and White Americans is a mirror image.  That's a pretty stark finding.\n",
    "\n",
    "It would appear that Accidental deaths are going to be a small part of this overall data, but I wanted to follow through and check up on this:"
   ]
  },
  {
   "cell_type": "markdown",
   "metadata": {},
   "source": [
    "## Accidental Gun Deaths at Least Twice as Common for Black, White, and Native Americans as Hispanic Americans"
   ]
  },
  {
   "cell_type": "code",
   "execution_count": 43,
   "metadata": {},
   "outputs": [
    {
     "data": {
      "text/plain": [
       "[('White', 1132),\n",
       " ('Black', 328),\n",
       " ('Hispanic', 145),\n",
       " ('Native American/Native Alaskan', 22),\n",
       " ('Asian/Pacific Islander', 12)]"
      ]
     },
     "execution_count": 43,
     "metadata": {},
     "output_type": "execute_result"
    }
   ],
   "source": [
    "accidental_race_counts = {}\n",
    "for i, race in enumerate(races):\n",
    "    if intents[i] == 'Accidental':\n",
    "        if race not in accidental_race_counts:\n",
    "            accidental_race_counts[race] = 0\n",
    "        accidental_race_counts[race] += 1\n",
    "sorted(accidental_race_counts.items(), key=lambda x: x[1], reverse=True)"
   ]
  },
  {
   "cell_type": "code",
   "execution_count": 44,
   "metadata": {},
   "outputs": [
    {
     "name": "stdout",
     "output_type": "stream",
     "text": [
      "Accidents per 100,000 By Race:\n",
      "\n",
      "Black - 0.814893976207 Accidents per 100,000\n",
      "\n",
      "Native American/Native Alaskan - 0.588313001771 Accidents per 100,000\n",
      "\n",
      "White - 0.573690446649 Accidents per 100,000\n",
      "\n",
      "Hispanic - 0.324980184613 Accidents per 100,000\n",
      "\n",
      "Asian/Pacific Islander - 7.91581965148e-08 Accidents per 100,000\n",
      "\n"
     ]
    }
   ],
   "source": [
    "accidental_race_counts_per_hundredk = {}\n",
    "for key, value in (accidental_race_counts.items()):    \n",
    "    accidental_race_counts_per_hundredk[key] = float(value)*100000/float(total_pop_by_race[key])\n",
    "sorted_accidents = sorted(accidental_race_counts_per_hundredk.items(), key=lambda x: x[1], reverse=True)\n",
    "\n",
    "print(\"Accidents per 100,000 By Race:\")\n",
    "print('')\n",
    "for race, count in sorted_accidents:\n",
    "    print(\"{} - {} Accidents per 100,000\".format(race, count))\n",
    "    print('')"
   ]
  },
  {
   "cell_type": "markdown",
   "metadata": {},
   "source": [
    "As it turns out, Black Americans are also more than twice as likely to die from a gun accident as Hispanic Americans - even though Hispanic Americans are second most likely to be homicide victims.  I have no guesses currently as to why that might be, but maybe other factors like level of education or geography are coming into play.  \n",
    "\n",
    "Native American/Native Alaskan and White American populations are also roughly twice as likely as Hispanic Americans to die as a result of a firearms-related accident.  Accidental gun death is basically not at all a factor for the Asian/Pacific Islander ethnicity, comparatively."
   ]
  },
  {
   "cell_type": "markdown",
   "metadata": {},
   "source": [
    "## Education and Gun Deaths in the United States"
   ]
  },
  {
   "cell_type": "code",
   "execution_count": 45,
   "metadata": {},
   "outputs": [],
   "source": [
    "education = []\n",
    "for row in data:\n",
    "    education.append(row[10])"
   ]
  },
  {
   "cell_type": "code",
   "execution_count": 50,
   "metadata": {},
   "outputs": [
    {
     "name": "stdout",
     "output_type": "stream",
     "text": [
      "Gun Deaths by Education Level:\n"
     ]
    },
    {
     "data": {
      "text/plain": [
       "[('HS/GED', 42927),\n",
       " ('Less than HS', 21823),\n",
       " ('Some college', 21680),\n",
       " ('BA+', 12946),\n",
       " ('NA', 1422)]"
      ]
     },
     "execution_count": 50,
     "metadata": {},
     "output_type": "execute_result"
    }
   ],
   "source": [
    "education_counts = {}\n",
    "for edu_level in education:\n",
    "    if edu_level not in education_counts:\n",
    "        education_counts[edu_level] = 1\n",
    "    else:\n",
    "        education_counts[edu_level] += 1\n",
    "print(\"Gun Deaths by Education Level:\")\n",
    "sorted(education_counts.items(), key=lambda x: x[1], reverse=True)"
   ]
  },
  {
   "cell_type": "code",
   "execution_count": 53,
   "metadata": {},
   "outputs": [
    {
     "name": "stdout",
     "output_type": "stream",
     "text": [
      "High School Educated Gun Deaths by Race:\n"
     ]
    },
    {
     "data": {
      "text/plain": [
       "[('White', 28266),\n",
       " ('Black', 10686),\n",
       " ('Hispanic', 3206),\n",
       " ('Native American/Native Alaskan', 392),\n",
       " ('Asian/Pacific Islander', 377)]"
      ]
     },
     "execution_count": 53,
     "metadata": {},
     "output_type": "execute_result"
    }
   ],
   "source": [
    "hs_deaths_by_race = {}\n",
    "for row in data:\n",
    "    ed = row[10]\n",
    "    race = row[7]\n",
    "    if ed == 'HS/GED':\n",
    "        if race not in hs_deaths_by_race:\n",
    "            hs_deaths_by_race[race] = 0\n",
    "        hs_deaths_by_race[race] += 1\n",
    "print(\"High School Educated Gun Deaths by Race:\")\n",
    "sorted(hs_deaths_by_race.items(), key=lambda x: x[1], reverse=True)"
   ]
  },
  {
   "cell_type": "code",
   "execution_count": 56,
   "metadata": {},
   "outputs": [
    {
     "name": "stdout",
     "output_type": "stream",
     "text": [
      "High School Educated Gun Deaths per 100,000 By Race:\n",
      "\n",
      "Black - 26.5486494809 Gun Deaths per 100,000\n",
      "\n",
      "White - 14.3250301811 Gun Deaths per 100,000\n",
      "\n",
      "Native American/Native Alaskan - 10.4826680316 Gun Deaths per 100,000\n",
      "\n",
      "Hispanic - 7.18542394393 Gun Deaths per 100,000\n",
      "\n",
      "Asian/Pacific Islander - 2.48688667384e-06 Gun Deaths per 100,000\n",
      "\n"
     ]
    }
   ],
   "source": [
    "hs_counts_per_hundredk = {}\n",
    "for key, value in (hs_deaths_by_race.items()):    \n",
    "    hs_counts_per_hundredk[key] = float(value)*100000/float(total_pop_by_race[key])\n",
    "sorted_hs = sorted(hs_counts_per_hundredk.items(), key=lambda x: x[1], reverse=True)\n",
    "\n",
    "print(\"High School Educated Gun Deaths per 100,000 By Race:\")\n",
    "print('')\n",
    "for race, count in sorted_hs:\n",
    "    print(\"{} - {} Gun Deaths per 100,000\".format(race, count))\n",
    "    print('')"
   ]
  },
  {
   "cell_type": "code",
   "execution_count": 57,
   "metadata": {},
   "outputs": [
    {
     "name": "stdout",
     "output_type": "stream",
     "text": [
      "Gun Deaths by Race - Individuals Without High School or GED:\n"
     ]
    },
    {
     "data": {
      "text/plain": [
       "[('White', 9892),\n",
       " ('Black', 7572),\n",
       " ('Hispanic', 3897),\n",
       " ('Native American/Native Alaskan', 264),\n",
       " ('Asian/Pacific Islander', 198)]"
      ]
     },
     "execution_count": 57,
     "metadata": {},
     "output_type": "execute_result"
    }
   ],
   "source": [
    "no_hs_deaths_by_race = {}\n",
    "for row in data:\n",
    "    ed = row[10]\n",
    "    race = row[7]\n",
    "    if ed == 'Less than HS':\n",
    "        if race not in no_hs_deaths_by_race:\n",
    "            no_hs_deaths_by_race[race] = 0\n",
    "        no_hs_deaths_by_race[race] += 1\n",
    "print(\"Gun Deaths by Race - Individuals Without High School or GED:\")\n",
    "sorted(no_hs_deaths_by_race.items(), key=lambda x: x[1], reverse=True)"
   ]
  },
  {
   "cell_type": "code",
   "execution_count": 68,
   "metadata": {},
   "outputs": [
    {
     "name": "stdout",
     "output_type": "stream",
     "text": [
      "Below High School Educated Gun Deaths per 100,000 By Race:\n",
      "\n",
      "Black - 18.8121255727 Gun Deaths per 100,000\n",
      "\n",
      "Hispanic - 8.73412261682 Gun Deaths per 100,000\n",
      "\n",
      "Native American/Native Alaskan - 7.05975602125 Gun Deaths per 100,000\n",
      "\n",
      "White - 5.01320309033 Gun Deaths per 100,000\n",
      "\n",
      "Asian/Pacific Islander - 1.30611024249e-06 Gun Deaths per 100,000\n",
      "\n"
     ]
    }
   ],
   "source": [
    "no_hs_counts_per_hundredk = {}\n",
    "for key, value in (no_hs_deaths_by_race.items()):    \n",
    "    no_hs_counts_per_hundredk[key] = float(value)*100000/float(total_pop_by_race[key])\n",
    "sorted_no_hs = sorted(no_hs_counts_per_hundredk.items(), key=lambda x: x[1], reverse=True)\n",
    "\n",
    "print(\"Below High School Educated Gun Deaths per 100,000 By Race:\")\n",
    "print('')\n",
    "for race, count in sorted_no_hs:\n",
    "    print(\"{} - {} Gun Deaths per 100,000\".format(race, count))\n",
    "    print('')"
   ]
  },
  {
   "cell_type": "code",
   "execution_count": 64,
   "metadata": {},
   "outputs": [
    {
     "name": "stdout",
     "output_type": "stream",
     "text": [
      "College Educated Gun Deaths by Race:\n"
     ]
    },
    {
     "data": {
      "text/plain": [
       "[('White', 11317),\n",
       " ('Black', 820),\n",
       " ('Hispanic', 400),\n",
       " ('Asian/Pacific Islander', 369),\n",
       " ('Native American/Native Alaskan', 40)]"
      ]
     },
     "execution_count": 64,
     "metadata": {},
     "output_type": "execute_result"
    }
   ],
   "source": [
    "ba_deaths_by_race = {}\n",
    "for row in data:\n",
    "    ed = row[10]\n",
    "    race = row[7]\n",
    "    if ed == 'BA+':\n",
    "        if race not in ba_deaths_by_race:\n",
    "            ba_deaths_by_race[race] = 0\n",
    "        ba_deaths_by_race[race] += 1\n",
    "print(\"College Educated Gun Deaths by Race:\")\n",
    "sorted(ba_deaths_by_race.items(), key=lambda x: x[1], reverse=True)"
   ]
  },
  {
   "cell_type": "code",
   "execution_count": 69,
   "metadata": {},
   "outputs": [
    {
     "name": "stdout",
     "output_type": "stream",
     "text": [
      "College Educated Gun Deaths per 100,000 By Race:\n",
      "\n",
      "White - 5.73538408545 Gun Deaths per 100,000\n",
      "\n",
      "Black - 2.03723494052 Gun Deaths per 100,000\n",
      "\n",
      "Native American/Native Alaskan - 1.06966000322 Gun Deaths per 100,000\n",
      "\n",
      "Hispanic - 0.896497061002 Gun Deaths per 100,000\n",
      "\n",
      "Asian/Pacific Islander - 2.43411454283e-06 Gun Deaths per 100,000\n",
      "\n"
     ]
    }
   ],
   "source": [
    "ba_counts_per_hundredk = {}\n",
    "for key, value in (ba_deaths_by_race.items()):    \n",
    "    ba_counts_per_hundredk[key] = float(value)*100000/float(total_pop_by_race[key])\n",
    "sorted_ba = sorted(ba_counts_per_hundredk.items(), key=lambda x: x[1], reverse=True)\n",
    "\n",
    "print(\"College Educated Gun Deaths per 100,000 By Race:\")\n",
    "print('')\n",
    "for race, count in sorted_ba:\n",
    "    print(\"{} - {} Gun Deaths per 100,000\".format(race, count))\n",
    "    print('')"
   ]
  },
  {
   "cell_type": "code",
   "execution_count": 66,
   "metadata": {},
   "outputs": [
    {
     "name": "stdout",
     "output_type": "stream",
     "text": [
      "Gun Deaths by Race - Individuals with Some College:\n"
     ]
    },
    {
     "data": {
      "text/plain": [
       "[('White', 15803),\n",
       " ('Black', 3947),\n",
       " ('Hispanic', 1377),\n",
       " ('Asian/Pacific Islander', 346),\n",
       " ('Native American/Native Alaskan', 207)]"
      ]
     },
     "execution_count": 66,
     "metadata": {},
     "output_type": "execute_result"
    }
   ],
   "source": [
    "some_college_deaths_by_race = {}\n",
    "for row in data:\n",
    "    ed = row[10]\n",
    "    race = row[7]\n",
    "    if ed == 'Some college':\n",
    "        if race not in some_college_deaths_by_race:\n",
    "            some_college_deaths_by_race[race] = 0\n",
    "        some_college_deaths_by_race[race] += 1\n",
    "print(\"Gun Deaths by Race - Individuals with Some College:\")\n",
    "sorted(some_college_deaths_by_race.items(), key=lambda x: x[1], reverse=True)"
   ]
  },
  {
   "cell_type": "code",
   "execution_count": 67,
   "metadata": {},
   "outputs": [
    {
     "name": "stdout",
     "output_type": "stream",
     "text": [
      "Gun Deaths per 100,000 by Race - Individuals with Some College:\n",
      "\n",
      "Black - 9.80605647588 Gun Deaths per 100,000\n",
      "\n",
      "White - 8.00886053745 Gun Deaths per 100,000\n",
      "\n",
      "Native American/Native Alaskan - 5.53549051666 Gun Deaths per 100,000\n",
      "\n",
      "Hispanic - 3.0861911325 Gun Deaths per 100,000\n",
      "\n",
      "Asian/Pacific Islander - 2.28239466618e-06 Gun Deaths per 100,000\n",
      "\n"
     ]
    }
   ],
   "source": [
    "some_college_counts_per_hundredk = {}\n",
    "for key, value in (some_college_deaths_by_race.items()):\n",
    "    some_college_counts_per_hundredk[key] = float(value)*100000/float(total_pop_by_race[key])\n",
    "sorted_some_college = sorted(some_college_counts_per_hundredk.items(), key=lambda x: x[1], reverse=True)\n",
    "\n",
    "print(\"Gun Deaths per 100,000 by Race - Individuals with Some College:\")\n",
    "print('')\n",
    "for race, count in sorted_some_college:\n",
    "        print(\"{} - {} Gun Deaths per 100,000\".format(race, count))\n",
    "        print('')"
   ]
  },
  {
   "cell_type": "markdown",
   "metadata": {},
   "source": [
    "Across all educational levels except BA+, Black Americans are most likely to die a gun-related death - including Black Americans with some college. There are almost 3x as many gun-related deaths for White Americans with BA+ as Black Americans with BA+.  This led me further questions about the prevalence of various education levels in the United States - both on the whole, and broken down by race.  An obvious explanation for the preponderance of White, college educated gun deaths is that there are likely more White Americans who complete college.  \n",
    "\n",
    "To test this, I obtained some additional data from the <a href=\"https://www.census.gov/data/tables/2016/demo/education-attainment/cps-detailed-tables.html\">US Census Bureau</a> regarding educational attainment by Americans from the 2016 census.  Please note that I included Associates degrees, both occupational and academic, as a completed BA, since the original gun violence data set doesn't include as many subcategories, and it seemed inaccurate to call those \"Some college\"."
   ]
  },
  {
   "cell_type": "markdown",
   "metadata": {},
   "source": [
    "## Adding Racial Data to the Education and Gun Deaths Equation"
   ]
  },
  {
   "cell_type": "code",
   "execution_count": 76,
   "metadata": {},
   "outputs": [
    {
     "data": {
      "text/plain": [
       "{'BA+': 12946,\n",
       " 'HS/GED': 42927,\n",
       " 'Less than HS': 21823,\n",
       " 'NA': 1422,\n",
       " 'Some college': 21680}"
      ]
     },
     "execution_count": 76,
     "metadata": {},
     "output_type": "execute_result"
    }
   ],
   "source": [
    "educational_attainment = {\n",
    "    \"BA+\": 98521000,\n",
    "    \"HS/GED\": 70882000,\n",
    "    \"Less than HS\": 27837000,\n",
    "    \"Some college\": 46750000,\n",
    "    \"NA\": 815000\n",
    "}\n",
    "education_counts"
   ]
  },
  {
   "cell_type": "code",
   "execution_count": 92,
   "metadata": {},
   "outputs": [
    {
     "name": "stdout",
     "output_type": "stream",
     "text": [
      "Gun Deaths per 100,000:\n",
      "\n",
      "NA - 174.478527607 Gun Deaths per 100,000\n",
      "\n",
      "Less than HS - 78.3956604519 Gun Deaths per 100,000\n",
      "\n",
      "HS/GED - 60.5612144127 Gun Deaths per 100,000\n",
      "\n",
      "Some college - 46.3743315508 Gun Deaths per 100,000\n",
      "\n",
      "BA+ - 13.1403457131 Gun Deaths per 100,000\n",
      "\n"
     ]
    }
   ],
   "source": [
    "ed_deaths_per_hundredk = {}\n",
    "for key, value in (education_counts.items()):    \n",
    "    ed_deaths_per_hundredk[key] = float(value)/float(educational_attainment[key])*100000\n",
    "sorted_ed = sorted(ed_deaths_per_hundredk.items(), key=lambda x: x[1], reverse=True)\n",
    "print(\"Gun Deaths per 100,000:\")\n",
    "print('')\n",
    "for ed, count in sorted_ed:\n",
    "        print(\"{} - {} Gun Deaths per 100,000\".format(ed, count))\n",
    "        print('')\n",
    "\n"
   ]
  },
  {
   "cell_type": "markdown",
   "metadata": {},
   "source": [
    "For the total American population, data suggests that the less education an individual has, the higher the likelihood of death by gun.  There seem to be NAs in the gun death education level data at a much greater rate than in the census data.  For whatever reason, the gun death data collection methods left a lot of blanks compared to the Census.  However, the NAs under Education are only about 1% of the gun violence data, so I've chosen not to do anything about them."
   ]
  },
  {
   "cell_type": "code",
   "execution_count": 89,
   "metadata": {},
   "outputs": [],
   "source": [
    "white_education = {\n",
    "    \"Less than HS\": 21132000,\n",
    "    \"HS/GED\": 55625000,\n",
    "    \"Some college\": 35880000,\n",
    "    \"BA+\": 78825000,\n",
    "    \"NA\": 526000\n",
    "}"
   ]
  },
  {
   "cell_type": "code",
   "execution_count": 90,
   "metadata": {},
   "outputs": [
    {
     "name": "stdout",
     "output_type": "stream",
     "text": [
      "White American Gun Deaths by Education:\n"
     ]
    },
    {
     "data": {
      "text/plain": [
       "[('HS/GED', 28266),\n",
       " ('Some college', 15803),\n",
       " ('BA+', 11317),\n",
       " ('Less than HS', 9892),\n",
       " ('NA', 959)]"
      ]
     },
     "execution_count": 90,
     "metadata": {},
     "output_type": "execute_result"
    }
   ],
   "source": [
    "white_american_deaths = {}\n",
    "for row in data:\n",
    "    ed = row[10]\n",
    "    race = row[7]\n",
    "    if race == 'White':\n",
    "        if ed not in white_american_deaths:\n",
    "            white_american_deaths[ed] = 0\n",
    "        white_american_deaths[ed] += 1\n",
    "print(\"White American Gun Deaths by Education:\")\n",
    "sorted(white_american_deaths.items(), key=lambda x: x[1], reverse=True)"
   ]
  },
  {
   "cell_type": "code",
   "execution_count": 95,
   "metadata": {},
   "outputs": [
    {
     "name": "stdout",
     "output_type": "stream",
     "text": [
      "White Gun Deaths per 100,000:\n",
      "\n",
      "NA - 182.319391635 Gun Deaths per 100,000\n",
      "\n",
      "HS/GED - 50.8152808989 Gun Deaths per 100,000\n",
      "\n",
      "Less than HS - 46.8105243233 Gun Deaths per 100,000\n",
      "\n",
      "Some college - 44.0440356745 Gun Deaths per 100,000\n",
      "\n",
      "BA+ - 14.357120203 Gun Deaths per 100,000\n",
      "\n"
     ]
    }
   ],
   "source": [
    "white_ed_deaths_per_hundredk = {}\n",
    "for key, value in (white_american_deaths.items()):    \n",
    "    white_ed_deaths_per_hundredk[key] = float(value)/float(white_education[key])*100000\n",
    "sorted_ed_white = sorted(white_ed_deaths_per_hundredk.items(), key=lambda x: x[1], reverse=True)\n",
    "print(\"White Gun Deaths per 100,000:\")\n",
    "print('')\n",
    "for ed, count in sorted_ed_white:\n",
    "        print(\"{} - {} Gun Deaths per 100,000\".format(ed, count))\n",
    "        print('')"
   ]
  },
  {
   "cell_type": "markdown",
   "metadata": {},
   "source": [
    "For white Americans, the number of gun deaths per 100,000 for those with 1) less than a high school education, or 2) high school or GED completed, are significantly lower than for the overall population - about 40% lower than the general population for white Americans without high school, and 16% lower for white Americans with high school or GED.  There's also less of a total difference than among the total population for white Americans who have less than a BA - the range is only 6 individuals per 100,000 across all 3 categories."
   ]
  },
  {
   "cell_type": "code",
   "execution_count": 79,
   "metadata": {},
   "outputs": [],
   "source": [
    "black_education = {\n",
    "    \"Less than HS\": 4200000,\n",
    "    \"HS/GED\": 10319000,\n",
    "    \"Some college\": 6942000,\n",
    "    \"BA+\": 8994000,\n",
    "    \"NA\": 80000\n",
    "}"
   ]
  },
  {
   "cell_type": "code",
   "execution_count": 97,
   "metadata": {},
   "outputs": [
    {
     "name": "stdout",
     "output_type": "stream",
     "text": [
      "Black American Gun Deaths by Education:\n"
     ]
    },
    {
     "data": {
      "text/plain": [
       "[('HS/GED', 10686),\n",
       " ('Less than HS', 7572),\n",
       " ('Some college', 3947),\n",
       " ('BA+', 820),\n",
       " ('NA', 271)]"
      ]
     },
     "execution_count": 97,
     "metadata": {},
     "output_type": "execute_result"
    }
   ],
   "source": [
    "black_american_deaths = {}\n",
    "for row in data:\n",
    "    ed = row[10]\n",
    "    race = row[7]\n",
    "    if race == 'Black':\n",
    "        if ed not in black_american_deaths:\n",
    "            black_american_deaths[ed] = 0\n",
    "        black_american_deaths[ed] += 1\n",
    "print(\"Black American Gun Deaths by Education:\")\n",
    "sorted(black_american_deaths.items(), key=lambda x: x[1], reverse=True)"
   ]
  },
  {
   "cell_type": "code",
   "execution_count": 100,
   "metadata": {},
   "outputs": [
    {
     "name": "stdout",
     "output_type": "stream",
     "text": [
      "Black Gun Deaths per 100,000:\n",
      "\n",
      "NA - 338.75 Gun Deaths per 100,000\n",
      "\n",
      "Less than HS - 180.285714286 Gun Deaths per 100,000\n",
      "\n",
      "HS/GED - 103.556546177 Gun Deaths per 100,000\n",
      "\n",
      "Some college - 56.8568135984 Gun Deaths per 100,000\n",
      "\n",
      "BA+ - 9.11718923727 Gun Deaths per 100,000\n",
      "\n"
     ]
    }
   ],
   "source": [
    "black_ed_deaths_per_hundredk = {}\n",
    "for key, value in (black_american_deaths.items()):    \n",
    "    black_ed_deaths_per_hundredk[key] = float(value)/float(black_education[key])*100000\n",
    "sorted_ed_black = sorted(black_ed_deaths_per_hundredk.items(), key=lambda x: x[1], reverse=True)\n",
    "print(\"Black Gun Deaths per 100,000:\")\n",
    "print('')\n",
    "for ed, count in sorted_ed_black:\n",
    "        print(\"{} - {} Gun Deaths per 100,000\".format(ed, count))\n",
    "        print('')"
   ]
  },
  {
   "cell_type": "markdown",
   "metadata": {},
   "source": [
    "I blinked hard when I first read this.  I also rechecked my code twice to make sure I hadn't misnamed a variable somewhere.  If someone finds a bug let me know.\n",
    "\n",
    "It looks like there are <i>3x as many gun deaths for Black Americans as White Americans without high school, and twice as many for those with HS/GED.  There are 20% more Black American gun deaths than White American gun deaths for those with some college.</i>  Interestingly, there are actually 35% <b>fewer</b> Black American gun deaths for individuals in the BA+ category."
   ]
  },
  {
   "cell_type": "markdown",
   "metadata": {},
   "source": [
    "# Conclusions"
   ]
  },
  {
   "cell_type": "markdown",
   "metadata": {},
   "source": [
    "Analysis of this dataset has yielded the following insights:\n",
    "<ol>\n",
    "    <li>Almost 6x as many males died a gun-related death as females in the US between 2012 and 2014.</li>\n",
    "    <li>Overall, 40% more black Americans die as a result of a gun than white Americans.</li>\n",
    "    <li>White Americans are actually 26% more likely than Native American/Native Alaskans to die as a result of a gun, and 41% more likely than Hispanic Americans.</li>\n",
    "    <li>Black and Hispanic American gun deaths had a high likelihood of being ruled a homicide in this time period (83% and 65% respectively).</li>\n",
    "    <li>When a white American died as a result of a gun, it was ruled a suicide 84% of the time.  When it was a Native American/Native Alaskan who died, it was ruled a suicide 60% of the time.</li>\n",
    "    <li>For Americans on the whole, each additional educational achievement has an insulating effect against dying a gun-related death.  The effect is strongest for Black Americans who have completed College.</li>\n",
    "    <li>White Americans whose highest educational attainment is high school or below have a significantly lower rate of gun death than the national average - 40% lower if they have not completed high school, and 16% lower if they have.</li>\n",
    "    <li>Black Americans are 3x as likely to die a gun death as White Americans if both do not have high school, and twice as likely if they do.</li>\n",
    "    <li>Black Americans with a BA or higher are 35% less likely to die as a gun-related death as White Americans.  This may be a result of the preponderance of White American gun suicides.</li>\n",
    "</ol>\n",
    "Thanks for reading!\n",
    "    "
   ]
  },
  {
   "cell_type": "code",
   "execution_count": null,
   "metadata": {},
   "outputs": [],
   "source": []
  }
 ],
 "metadata": {
  "kernelspec": {
   "display_name": "Python 2",
   "language": "python",
   "name": "python2"
  },
  "language_info": {
   "codemirror_mode": {
    "name": "ipython",
    "version": 2
   },
   "file_extension": ".py",
   "mimetype": "text/x-python",
   "name": "python",
   "nbconvert_exporter": "python",
   "pygments_lexer": "ipython2",
   "version": "2.7.15"
  }
 },
 "nbformat": 4,
 "nbformat_minor": 1
}
